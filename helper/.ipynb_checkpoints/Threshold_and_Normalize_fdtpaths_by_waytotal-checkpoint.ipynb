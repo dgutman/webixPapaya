{
 "cells": [
  {
   "cell_type": "markdown",
   "metadata": {},
   "source": [
    "###### Nipype Workflow for ProbTrackX2 fdt_path waypath thresholding and normalization\n",
    "## Normalization"
   ]
  },
  {
   "cell_type": "code",
   "execution_count": 1,
   "metadata": {},
   "outputs": [],
   "source": [
    "from nipype import config\n",
    "import os,glob,sys,shutil\n",
    "import nipype.interfaces.fsl as fsl\n",
    "import nipype.pipeline.engine as pe\n",
    "import nipype.interfaces.utility as util\n",
    "import nipype.interfaces.io as nio\n",
    "from nipype.interfaces.utility import Split\n",
    "from nipype.interfaces.fsl import Info\n",
    "from nipype.interfaces.ants import WarpImageMultiTransform\n",
    "from nipype.interfaces.utility import Function\n",
    "from IPython.display import Image\n",
    "\n",
    "MNI_template = Info.standard_image('MNI152_T1_1mm_brain.nii.gz')"
   ]
  },
  {
   "cell_type": "markdown",
   "metadata": {},
   "source": [
    "# Setup for DataGrabber inputs needed for thresholding"
   ]
  },
  {
   "cell_type": "code",
   "execution_count": 2,
   "metadata": {},
   "outputs": [],
   "source": [
    "subjRootDir = \"/data/HCP_BedpostData/\""
   ]
  },
  {
   "cell_type": "code",
   "execution_count": 3,
   "metadata": {},
   "outputs": [],
   "source": [
    "# Obtain functional images\n",
    "datasource = pe.Node(interface=nio.DataGrabber(infields=['subject_id','roiName'],\n",
    "        outfields=['nodif_brain',\n",
    "                   'affDtiToStruct','warpDtiToStruct','invWarpDtiToStruct',\n",
    "                   'affStructToMni','warpStructToMni','invWarpStructToMni'\n",
    "                   ,'DtiPbxResults']),\n",
    "        name='datasource')\n",
    "\n",
    "datasource.inputs.base_directory = subjRootDir\n",
    "datasource.inputs.template ='*'\n",
    "datasource.inputs.sort_filelist = True\n",
    "\n",
    "#samples_base_name_fxn = lambda x : x.replace('_th1samples.nii.gz','')\n",
    "datasource.inputs.field_template = dict(\n",
    "    nodif_brain='%s/T1w/Diffusion/nodif_brain.nii.gz', \n",
    "    affDtiToStruct='addlInfo/%s/dtiToStruct0GenericAffine.mat',\n",
    "    warpDtiToStruct='addlInfo/%s/dtiToStruct1Warp.nii.gz',\n",
    "    invWarpDtiToStruct='addlInfo/%s/dtiToStruct1InverseWarp.nii.gz',\n",
    "    affStructToMni='addlInfo/%s/structToMni0GenericAffine.mat',\n",
    "    warpStructToMni='addlInfo/%s/structToMni1Warp.nii.gz',\n",
    "    invWarpStructToMni='addlInfo/%s/structToMni1InverseWarp.nii.gz',    \n",
    "    DtiPbxResults='addlInfo/%s/pbxResults/DTI/Human_%s_fdt_paths.nii.gz'\n",
    "    )\n",
    "\n",
    "#Human_Hypothalamus_Right_fdt_paths.nii.gz\n",
    "## Can take the first subject and compute the number of expected ROIs\n",
    "datasource.inputs.template_args = dict(\n",
    "    nodif_brain=[['subject_id']], \n",
    "    affDtiToStruct=[['subject_id']],\n",
    "    warpDtiToStruct=[['subject_id']],\n",
    "    invWarpDtiToStruct=[['subject_id']],\n",
    "    affStructToMni=[['subject_id']],\n",
    "    warpStructToMni=[['subject_id']],\n",
    "    invWarpStructToMni=[['subject_id']],\n",
    "    DtiPbxResults=[['subject_id','roiName']]\n",
    "    )"
   ]
  },
  {
   "cell_type": "markdown",
   "metadata": {},
   "source": [
    "## Find and iterate through Subjects:"
   ]
  },
  {
   "cell_type": "code",
   "execution_count": null,
   "metadata": {},
   "outputs": [],
   "source": [
    "# List of subjects:\n",
    "FULL_SUBJECT_LIST = [x for x in os.listdir(subjRootDir) \n",
    "                     if os.path.isdir( subjRootDir+'/addlInfo/'+x+'/pbxResults/DTI')]\n",
    "print(len(FULL_SUBJECT_LIST),\"Subjects are potentially available to be processed!\")"
   ]
  },
  {
   "cell_type": "code",
   "execution_count": null,
   "metadata": {},
   "outputs": [],
   "source": [
    "# Iterator through all subjects:\n",
    "subj_infosource = pe.Node(interface=util.IdentityInterface(fields=['subject_id']), \n",
    "                          name=\"subj_infosource\")\n",
    "subj_infosource.iterables = ('subject_id', FULL_SUBJECT_LIST)"
   ]
  },
  {
   "cell_type": "markdown",
   "metadata": {},
   "source": [
    "## Threshold and then Normalize images"
   ]
  },
  {
   "cell_type": "code",
   "execution_count": null,
   "metadata": {},
   "outputs": [],
   "source": [
    "# ROI_infosource\n",
    "## DO NOT FORGET  THE HUMAN_ IS PART OF THE TEMPLATE SO DO NOT INCLUDE IT\n",
    "\n",
    "roi_infosource = pe.Node(interface=util.IdentityInterface(fields=['subject_id', 'roiName']), \n",
    "                         name=\"roi_infosource\")\n",
    "\n",
    "roi_infosource.iterables = ('roiName',['Hypothalamus_Left','Hypothalamus_Right','Hypothalamus_Bilat',\n",
    "                                       'BA17_bilat','BA_4ap_bilat',\n",
    "                                       'BasalForebrain_Bilat','BasalForebrain_Left','BasalForebrain_Right',\n",
    "                                       'Bilat_Accumbens_HarvardOxford-sub-maxprob-thr25-1mm'])"
   ]
  },
  {
   "cell_type": "code",
   "execution_count": null,
   "metadata": {},
   "outputs": [],
   "source": [
    "# Node: Function: Thresholds using FSL Maths\n",
    "# ifiles: original input file\n",
    "Threshold = pe.Node(fsl.Threshold(),\n",
    "                 name = 'Threshold')\n",
    "\n",
    "# Node: Function: Normalizes using FSL Maths -div\n",
    "Normalize = pe.Node(fsl.BinaryMaths(operation='div'),\n",
    "                 name = 'Normalize')\n",
    "\n",
    "def getWaytotal(in_file): \n",
    "    ### Process the waytotal file and grab the integer\n",
    "    import subprocess\n",
    "    import re\n",
    "    \n",
    "    print(in_file)\n",
    "    \n",
    "    in_file= re.sub('fdt_paths.nii.gz', 'waytotal', in_file)\n",
    "    mycommand= \"cat \"+str(in_file)\n",
    "    mycommand= mycommand.split(sep=' ')\n",
    "    result= subprocess.run(mycommand, stdout=subprocess.PIPE)\n",
    "    tmpwaytotal= result.stdout.decode(\"utf-8\").split(' ')[0]\n",
    "    print(in_file)\n",
    "    print('waytotal: %s' % tmpwaytotal)\n",
    "    \n",
    "    if(not tmpwaytotal): \n",
    "        print('Waytotal Empty for: %s' % pathwaytotal)\n",
    "    else:\n",
    "        waytotal= float(tmpwaytotal)                \n",
    "        return( waytotal )\n",
    "\n",
    "\n",
    "def scaleWaytotal(waytotal,Tscaling): \n",
    "    ### Input the waytotal file and return waytotal, and a scaled waytotal to use for scaling\n",
    "    \n",
    "    waytotal= float(waytotal)                \n",
    "    return( waytotal, float(waytotal) / Tscaling    )    \n",
    "    \n",
    "getWaytotal_node = pe.Node( name=\"getWaytotal_node\",\n",
    "                        interface=Function(input_names=[\"in_file\"],\n",
    "                        output_names=[\"waytotal\"],\n",
    "                        function=getWaytotal\n",
    "                                          ) )\n",
    "\n",
    "    \n",
    "scaleWaytotal_node = pe.Node( name=\"scaleWaytotal_node\",\n",
    "                        interface=Function(input_names=[\"waytotal\",\"Tscaling\"],\n",
    "                        output_names=[\"waytotal\",\"scaledWaytotal\"],\n",
    "                        function=scaleWaytotal) )\n",
    "\n",
    "\n",
    "\n",
    "#scaleWaytotal_node.inputs.Tscaling = 500\n",
    "scaleWaytotal_node.iterables = (\"Tscaling\", [50,500,5000])\n",
    "\n",
    "warp_pbxDti_to_Mni = pe.Node(WarpImageMultiTransform(use_nearest=True, \n",
    "                                                      reference_image= MNI_template),\n",
    "                             name=\"warp_pbxDti_to_Mni\")\n",
    "\n",
    "## Create a merge node to store the XFMS\n",
    "merge_xfms = pe.Node(util.Merge(4), name='merge_xfms')\n",
    "\n",
    "#procWaytotal_node.iterables = (\"Tscaling\",  [5000,1000,500,100,50])\n"
   ]
  },
  {
   "cell_type": "code",
   "execution_count": null,
   "metadata": {},
   "outputs": [],
   "source": [
    "###  I NEED THE WAYTOTAL AND THE SCALED WAYTOTAL.... OOPS!!!\n",
    "\n",
    "# Workflow: Initialize\n",
    "wf = pe.Workflow(name=\"threshAndWarpPBX\")\n",
    "wf.base_dir = '/data/NipypeScratch/'\n",
    "wf.connect(subj_infosource,'subject_id',roi_infosource,'subject_id')\n",
    "\n",
    "wf.connect(roi_infosource,'subject_id',datasource,'subject_id')\n",
    "wf.connect(roi_infosource,'roiName',datasource,'roiName')\n",
    "\n",
    "wf.connect( datasource,'DtiPbxResults',getWaytotal_node,'in_file')\n",
    "    \n",
    "wf.connect( getWaytotal_node,'waytotal',scaleWaytotal_node,'waytotal')\n",
    "\n",
    "    \n",
    "wf.connect(scaleWaytotal_node,'scaledWaytotal',Threshold,'thresh')\n",
    "wf.connect(datasource,'DtiPbxResults',Threshold,'in_file')\n",
    "\n",
    "\n",
    "wf.connect(scaleWaytotal_node,'waytotal',Normalize,'operand_value')\n",
    "wf.connect(Threshold,'out_file',Normalize,'in_file')\n",
    "\n",
    "wf.connect(datasource,'warpStructToMni',merge_xfms,\"in1\")\n",
    "wf.connect(datasource,'affStructToMni',merge_xfms,\"in2\")\n",
    "wf.connect(datasource,'warpDtiToStruct',merge_xfms,\"in3\")\n",
    "wf.connect(datasource,'affDtiToStruct',merge_xfms,\"in4\")\n",
    "\n",
    "# # ##antsApplyTransforms -d 3 -i A.nii.gz -o ADeformed.nii.gz -r C.nii.gz -t RegB2C1Warp.nii.gz  -t RegB2C0GenericAffine.mat -t RegA2B1Warp.nii.gz -t RegA2B0GenericAffine.mat\n",
    "\n",
    "# # ## Connect the pbx2 results I want to warp\n",
    "wf.connect(Normalize,\"out_file\",warp_pbxDti_to_Mni,\"input_image\")\n",
    "wf.connect( merge_xfms,  'out', warp_pbxDti_to_Mni, 'transformation_series')\n",
    "\n",
    "# ### need to make sure I feed the same modified waytotal to both functions\n",
    "# # Run Workflow\n",
    "#wf.run()\n",
    "wf.run(plugin='MultiProc', plugin_args={'n_procs': 30})"
   ]
  },
  {
   "cell_type": "markdown",
   "metadata": {},
   "source": [
    "# End Threshold and Normalize"
   ]
  },
  {
   "cell_type": "code",
   "execution_count": null,
   "metadata": {},
   "outputs": [],
   "source": []
  },
  {
   "cell_type": "code",
   "execution_count": null,
   "metadata": {},
   "outputs": [],
   "source": [
    "\n",
    "# ### Connect the dti_datasource to the pbx2 command\n",
    "# wf.connect( datasource,'DtiPbxResults',roiSplit,'inlist')  \n",
    "           \n",
    "# wf.connect( datasource,'DtiPbxResults',roi_infosource,'pbxResults')\n",
    "           \n",
    "\n",
    "\n",
    "# Workflow: Graph: Exec   'exec', 'hierarchical'\n",
    "imgOutput = wf.write_graph(graph2use='exec',simple_form=True)\n",
    "#,  dotfilename='/output/graph_exec.dot')\n",
    "#wf.write_graph(graph2use='hierarchical', dotfilename='/output/graph_exec.dot')\n",
    "#img\n",
    "# Visualize graph\n",
    "Image(imgOutput)"
   ]
  },
  {
   "cell_type": "code",
   "execution_count": null,
   "metadata": {},
   "outputs": [],
   "source": [
    "%%bash \n",
    "# Print directory structure\n",
    "tree -C -I \"*.nii.gz\" /data/SASRAID/ThreshNipype/output | grep -v -e \".*report\" -e \".*pklz\" -e \".*json\""
   ]
  },
  {
   "cell_type": "code",
   "execution_count": null,
   "metadata": {},
   "outputs": [],
   "source": []
  },
  {
   "cell_type": "markdown",
   "metadata": {},
   "source": [
    "## Generate subject file lists for each feature in group:"
   ]
  },
  {
   "cell_type": "code",
   "execution_count": null,
   "metadata": {},
   "outputs": [],
   "source": [
    "metaloc= '/code/notebooks/postPBX/unrestricted_dagutman_7_12_2018_15_39_53.csv'\n",
    "group='Gender'\n",
    "feature='M'\n",
    "bedpostx_dir= '/data/NipypeScratch/runpbx2/*'"
   ]
  },
  {
   "cell_type": "markdown",
   "metadata": {},
   "source": [
    "#### bedpostx_results= [subject_directories]"
   ]
  },
  {
   "cell_type": "code",
   "execution_count": null,
   "metadata": {},
   "outputs": [],
   "source": [
    "bedpostx_results= [ fn for fn in glob.glob(bedpostx_dir) if re.search( '[0-9][0-9]$', fn)  ]"
   ]
  },
  {
   "cell_type": "markdown",
   "metadata": {},
   "source": [
    "### subjectinfo= {subject_id: {'waytotals': [paths], 'fdt_paths': [paths]}}"
   ]
  },
  {
   "cell_type": "code",
   "execution_count": null,
   "metadata": {
    "scrolled": true
   },
   "outputs": [],
   "source": [
    "!ls /data/NipypeScratch/runpbx2/_subject_id_880157/_seed*/pbx2/waytotal"
   ]
  },
  {
   "cell_type": "code",
   "execution_count": null,
   "metadata": {},
   "outputs": [],
   "source": [
    "A= '/data/NipypeScratch/runpbx2/_subject_id_880157/_seed_..data..HCP_Data..EHECHT_ROIS..Human_Hypothalamus_Right.nii.gz/pbx2/waytotal'"
   ]
  },
  {
   "cell_type": "code",
   "execution_count": null,
   "metadata": {},
   "outputs": [],
   "source": [
    "mycommand= \"cat \"+A\n",
    "mycommand= mycommand.split(sep=' ')\n",
    "result= subprocess.run(mycommand, stdout=subprocess.PIPE)\n",
    "int( result.stdout )"
   ]
  },
  {
   "cell_type": "code",
   "execution_count": null,
   "metadata": {},
   "outputs": [],
   "source": [
    "! cat '/data/NipypeScratch/runpbx2/_subject_id_880157/_seed_..data..HCP_Data..EHECHT_ROIS..Human_Hypothalamus_Right.nii.gz/pbx2/waytotal'"
   ]
  },
  {
   "cell_type": "code",
   "execution_count": null,
   "metadata": {},
   "outputs": [],
   "source": [
    "! ls /NipypeScratch"
   ]
  },
  {
   "cell_type": "code",
   "execution_count": null,
   "metadata": {},
   "outputs": [],
   "source": [
    "infosource = Node(IdentityInterface(fields=['fdt_path']),\n",
    "                  name=\"infosource\")\n",
    "infosource.iterables = [('fdt_path', fdt_paths)]"
   ]
  },
  {
   "cell_type": "code",
   "execution_count": null,
   "metadata": {},
   "outputs": [],
   "source": [
    "\n",
    "## STEPS \n",
    "\n",
    "\n",
    "\n",
    "### GET WAYTOTAL FOR the TRACTOGRAPHY RUN\n",
    "## calculate the threshold which is   0.1% or 0.01%  i.e. 0.001 and 0.0001 * waytotal\n",
    "### fslmaths fdt_paths.nii.gz -thr <somenumber> -div waytotal (or waytotal/1000 so numbers are not 00000000)\n",
    "\n",
    "\n",
    "## THEN CONVERT RESULTS TO MNI SPACE---   AAH CHA!! OK\n",
    "\n",
    "\n",
    "## THEN ADD EM UP AND MAKE A MAP...\n",
    "\n",
    "config.update_config(cfg)\n",
    "\n",
    "cfg = dict(execution={'remove_unnecessary_outputs': False,\n",
    "                      'keep_inputs': True},\n",
    "           monitoring={'enabled': True,\n",
    "                       'sample_frequency': 5}\n",
    "          )\n",
    "\n",
    "\n",
    "\n",
    "\n",
    "### Had a default but we deleted it for now\n",
    "### TScaling was = 100000\n",
    "# def getWaytotal(in_file, Tscaling): \n",
    "#     import subprocess\n",
    "#     import re\n",
    "    \n",
    "#     in_file= re.sub('fdt_paths.nii.gz', 'waytotal', in_file)\n",
    "#     mycommand= \"cat \"+str(in_file)\n",
    "#     mycommand= mycommand.split(sep=' ')\n",
    "#     result= subprocess.run(mycommand, stdout=subprocess.PIPE)\n",
    "#     tmpwaytotal= result.stdout.decode(\"utf-8\").split(' ')[0]\n",
    "#     print('waytotal: %s' % tmpwaytotal)\n",
    "    \n",
    "#     if(not tmpwaytotal): \n",
    "#         print('Waytotal Empty for: %s' % pathwaytotal)\n",
    "#     else:\n",
    "#         waytotals= float(tmpwaytotal) / Tscaling                \n",
    "#         return( waytotals )\n",
    "\n",
    "\n"
   ]
  }
 ],
 "metadata": {
  "kernelspec": {
   "display_name": "Python 3",
   "language": "python",
   "name": "python3"
  },
  "language_info": {
   "codemirror_mode": {
    "name": "ipython",
    "version": 3
   },
   "file_extension": ".py",
   "mimetype": "text/x-python",
   "name": "python",
   "nbconvert_exporter": "python",
   "pygments_lexer": "ipython3",
   "version": "3.6.6"
  }
 },
 "nbformat": 4,
 "nbformat_minor": 2
}
