{
 "cells": [
  {
   "cell_type": "markdown",
   "metadata": {},
   "source": [
    "# Upload images from server filesystem to Girder using python API"
   ]
  },
  {
   "cell_type": "markdown",
   "metadata": {},
   "source": [
    "## From: Frink /HCP_Data/HCP_BedpostData/\n",
    "## To: Candygram \n",
    "http://candygram.neurology.emory.edu:8080/#collection/5c48db6de62914004de6350f/folder/5c743889e62914004d6f974c"
   ]
  },
  {
   "cell_type": "code",
   "execution_count": null,
   "metadata": {},
   "outputs": [],
   "source": [
    "# Ensure girder_client installed:\n",
    "! pip install girder_client"
   ]
  },
  {
   "cell_type": "code",
   "execution_count": 1,
   "metadata": {},
   "outputs": [],
   "source": [
    "import girder_client\n",
    "import sys,os,glob"
   ]
  },
  {
   "cell_type": "code",
   "execution_count": 2,
   "metadata": {},
   "outputs": [],
   "source": [
    "# Subject Data location:\n",
    "subjRootDir = \"/data/HCP_BedpostData/\"\n",
    "\n",
    "# Source subject nodiff:\n",
    "diffData = \"/T1w/Diffusion/nodif*\"\n",
    "\n",
    "# Source ROIs\n",
    "dtiSpaceMasks = \"addlInfo/%s/DTI_ROIs/*\""
   ]
  },
  {
   "cell_type": "code",
   "execution_count": 3,
   "metadata": {},
   "outputs": [
    {
     "name": "stdout",
     "output_type": "stream",
     "text": [
      "Login or email: admin\n",
      "Password for admin: ········\n"
     ]
    }
   ],
   "source": [
    "# Admin login:\n",
    "cbGirder = girder_client.GirderClient(apiUrl=\"http://candygram.neurology.emory.edu:8080/api/v1\")\n",
    "cbGirder.authenticate(interactive=True)"
   ]
  },
  {
   "cell_type": "code",
   "execution_count": 4,
   "metadata": {},
   "outputs": [],
   "source": [
    "# Destination of Subject data in DTI Space :\n",
    "subjDTIPath = \"/collection/FG/HCP_TractographyData/SubjectRegistrationResults/DTI_Space\"\n",
    "subjDtiTarget = cbGirder.get(\"resource/lookup?path=\" + subjDTIPath)"
   ]
  },
  {
   "cell_type": "code",
   "execution_count": 5,
   "metadata": {
    "scrolled": true
   },
   "outputs": [
    {
     "name": "stdout",
     "output_type": "stream",
     "text": [
      "1009 Subjects have Bedpost Data\n"
     ]
    }
   ],
   "source": [
    "# List of Subjects:\n",
    "subjList = [x for x in os.listdir(subjRootDir) if 'addlInfo' not in x]\n",
    "print(len(subjList),\"Subjects have Bedpost Data\")"
   ]
  },
  {
   "cell_type": "markdown",
   "metadata": {},
   "source": [
    "## Upload Source nodiff images images to Destination\n",
    "Source: Server filesystem <br>\n",
    "Destination: Girder"
   ]
  },
  {
   "cell_type": "code",
   "execution_count": null,
   "metadata": {},
   "outputs": [],
   "source": [
    "# Iterate through subjects:\n",
    "for s in subjList: \n",
    "    # Create destination folder (or get existing):\n",
    "    grdrTgtSubjFolder = cbGirder.createFolder(subjDtiTarget['_id'],\n",
    "                                              name=s,\n",
    "                                              description=\"Subject %s DTI Space Images\" % s,\n",
    "                                              reuseExisting=True)\n",
    "    \n",
    "    ## Items in subject folder (Destination):\n",
    "    itemsInSubjFolder = list(cbGirder.listItem(grdrTgtSubjFolder['_id']))\n",
    "    \n",
    "    # Dictionary of Destination images: {filename : file_size}\n",
    "    # Used to detect if Source images already uploaded to Girder:\n",
    "    curSubjFiles = [ (x['name'],x['size']) for  x  in itemsInSubjFolder  ]\n",
    "\n",
    "    # List of DTI nodiff images on server (Source):\n",
    "    dtiBaseFiles = glob.glob(subjRootDir+s+diffData)\n",
    "    for f in dtiBaseFiles:\n",
    "        # Check if file exists in Girder (Destination):\n",
    "        if((os.path.basename(f),os.path.getsize(f) ) in curSubjFiles):\n",
    "            print(\"Already uploaded: %s\" % f)\n",
    "        else:\n",
    "            print(\"Uploading %s ...\" % f)\n",
    "            # Upload Source to Destination:\n",
    "            grdrItemInfo = cbGirder.uploadFileToFolder(grdrTgtSubjFolder['_id'],\n",
    "                                                       f,\n",
    "                                                       filename=os.path.basename(f))\n",
    "            print(\"Uploading %s Metadata ...\" % f)\n",
    "            # Upload metadata:\n",
    "            cbGirder.addMetadataToItem(grdrItemInfo['itemId'],\n",
    "                                       {\"XTK\":{\"type\":\"volume2d\"}})\n",
    "            print(\"Uploading %s Done\" % f)\n",
    "           "
   ]
  },
  {
   "cell_type": "markdown",
   "metadata": {},
   "source": [
    "# Upload ROI Masks:\n",
    "MNI masks converted to subject DTI Space"
   ]
  },
  {
   "cell_type": "code",
   "execution_count": null,
   "metadata": {},
   "outputs": [],
   "source": [
    "# Iterate through subjects:\n",
    "for s in subjList:\n",
    "    print('Subject: %s' % s)\n",
    "    grdrTgtSubjFolder = cbGirder.createFolder(subjDtiTarget['_id'],\n",
    "                                              name=s,\n",
    "                                              description=\"Subject %s DTI Space Images\" % s,\n",
    "                                              reuseExisting=True)\n",
    "\n",
    "    grdrDTIROISubjFolder = cbGirder.createFolder(grdrTgtSubjFolder['_id'],\n",
    "                                                 name='DTI_ROIs',\n",
    "                                                 description=\"Subject %s DTI Space ROIs\" % s,\n",
    "                                                 reuseExisting=True)\n",
    "    \n",
    "    ## Items in subject ROI folder (Destination):\n",
    "    itemsInROIFolder = list(cbGirder.listItem(grdrDTIROISubjFolder['_id']))\n",
    "    \n",
    "    # Dictionary of Destination images: {filename : file_size}\n",
    "    # Used to detect if Source images already uploaded to Girder:\n",
    "    curSubjFiles = [ (x['name'],x['size']) for  x  in itemsInROIFolder  ]\n",
    "    \n",
    "    # List of DTI ROI Mask images on server (Source):\n",
    "    # Ex: '/data/HCP_BedpostData/addlInfo/379657/DTI_ROIs/*'\n",
    "    dtiBaseFiles = glob.glob(subjRootDir+dtiSpaceMasks % s)\n",
    "    for f in dtiBaseFiles:\n",
    "        # Check if file exists in Girder (Destination):\n",
    "        if((os.path.basename(f),os.path.getsize(f) ) in curSubjFiles):\n",
    "            print(\"Already Uploaded: %s\" % f)\n",
    "        else:\n",
    "            # Upload Source to Destination:\n",
    "            grdrItemInfo = cbGirder.uploadFileToFolder(grdrDTIROISubjFolder['_id'],f,filename=os.path.basename(f))\n",
    "\n",
    "            # Upload metadata:\n",
    "            cbGirder.addMetadataToItem(grdrItemInfo['itemId'],{\"XTK\":{\"type\":\"volume2d\"}})\n",
    "            print(\"Done: %s\" % f)"
   ]
  },
  {
   "cell_type": "markdown",
   "metadata": {},
   "source": [
    "# Upload Spec file in each subject folder:"
   ]
  },
  {
   "cell_type": "code",
   "execution_count": null,
   "metadata": {},
   "outputs": [],
   "source": [
    "### Now the fun part... let's create a SPEC for each Folder that shows how we want to visualize/load it..\n",
    "\n",
    "## For the DTI base data, we want the nodif to be first, nodif_brain to be second, nodif_brain_mask to be third...\n",
    "\n",
    "dtiFilesForPapaya = ['nodif.nii.gz','nodif_brain.nii.gz','nodif_brain_mask.nii.gz']\n",
    "\n",
    "\n",
    "\n",
    "\n",
    "for s in subjList[0:10]: ### Just going to grab the first ten subjects\n",
    "    papayaSpecDataDict = {}\n",
    "    \n",
    "    grdrTgtSubjFolder = list(cbGirder.listFolder(subjDtiTarget['_id'],name=s))\n",
    "    itemsInSubjFolder = list(cbGirder.listItem(grdrTgtSubjFolder[0]['_id']))\n",
    "    \n",
    "    for i in itemsInSubjFolder:\n",
    "        #print(i)\n",
    "        if i['name'] in dtiFilesForPapaya:\n",
    "            ### Populate the spec info now...\n",
    "            ##g# Need to get the fileID for this item...\n",
    "            itemFiles = cbGirder.listFile(i['_id'])\n",
    "            ##an item can have one or more files in it... this is complicated!\n",
    "\n",
    "            grdrFileId = None\n",
    "            for itf in itemFiles:\n",
    "                if itf['name'] == i['name']:\n",
    "                    grdrFileId = itf['_id']\n",
    "                    break\n",
    "            \n",
    "            papayaSpecDataDict[i['name']] = { 'displayName': i['name'].replace('nii.gz',''), 'grdrFileId': grdrFileId,\n",
    "                                                \"alpha\": 1, \"visible\": 1}\n",
    "            \n",
    "#    print(papayaSpecDataDict)\n",
    "    ## This is what we ACTUALY want to post.. so it's in order\n",
    "    for d in dtiFilesForPapaya:\n",
    "        if d in papayaSpecDataDict:\n",
    "            papayaSpec.append( papayaSpecDataDict[d]  )\n",
    "    cbGirder.addMetadataToFolder(grdrTgtSubjFolder[0]['_id'], {\"papayaSpec\":papayaSpec})\n",
    "    "
   ]
  },
  {
   "cell_type": "code",
   "execution_count": null,
   "metadata": {},
   "outputs": [],
   "source": []
  },
  {
   "cell_type": "code",
   "execution_count": null,
   "metadata": {},
   "outputs": [],
   "source": []
  },
  {
   "cell_type": "code",
   "execution_count": null,
   "metadata": {},
   "outputs": [],
   "source": [
    "        \n",
    "#     # Now either upload the local files and see if there are already files on girder.\n",
    "\n",
    "\n",
    "#     for f in dtiBaseFiles:\n",
    "#         print(f)\n",
    "#         print(grdrTgtSubjFolder)\n",
    "    \n",
    "#     ## So for each subject, I need to first either create or get the folder ID that I'm going to upload these items into\n",
    "    \n",
    "    \n",
    "    "
   ]
  }
 ],
 "metadata": {
  "kernelspec": {
   "display_name": "Python 3",
   "language": "python",
   "name": "python3"
  },
  "language_info": {
   "codemirror_mode": {
    "name": "ipython",
    "version": 3
   },
   "file_extension": ".py",
   "mimetype": "text/x-python",
   "name": "python",
   "nbconvert_exporter": "python",
   "pygments_lexer": "ipython3",
   "version": "3.6.6"
  }
 },
 "nbformat": 4,
 "nbformat_minor": 2
}
