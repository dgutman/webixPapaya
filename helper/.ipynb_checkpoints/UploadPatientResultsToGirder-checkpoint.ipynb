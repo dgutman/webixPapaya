{
 "cells": [
  {
   "cell_type": "markdown",
   "metadata": {},
   "source": [
    "# Upload images from server filesystem to Girder using python API"
   ]
  },
  {
   "cell_type": "markdown",
   "metadata": {},
   "source": [
    "## From: Frink /HCP_Data/HCP_BedpostData/\n",
    "## To: Candygram \n",
    "http://candygram.neurology.emory.edu:8080/#collection/5c48db6de62914004de6350f/folder/5c743889e62914004d6f974c"
   ]
  },
  {
   "cell_type": "code",
   "execution_count": null,
   "metadata": {},
   "outputs": [],
   "source": [
    "# Ensure girder_client installed:\n",
    "! pip install girder_client"
   ]
  },
  {
   "cell_type": "code",
   "execution_count": 1,
   "metadata": {},
   "outputs": [],
   "source": [
    "import girder_client\n",
    "import sys,os,glob"
   ]
  },
  {
   "cell_type": "code",
   "execution_count": 2,
   "metadata": {},
   "outputs": [],
   "source": [
    "# Subject Data location:\n",
    "subjRootDir = \"/data/HCP_BedpostData/\"\n",
    "\n",
    "# Source subject nodiff:\n",
    "diffData = \"/T1w/Diffusion/nodif*\"\n",
    "\n",
    "# Source ROIs\n",
    "dtiSpaceMasks = \"addlInfo/%s/DTI_ROIs/*\""
   ]
  },
  {
   "cell_type": "code",
   "execution_count": 3,
   "metadata": {},
   "outputs": [
    {
     "name": "stdout",
     "output_type": "stream",
     "text": [
      "Login or email: admin\n",
      "Password for admin: ········\n"
     ]
    }
   ],
   "source": [
    "# Admin login:\n",
    "cbGirder = girder_client.GirderClient(apiUrl=\"http://candygram.neurology.emory.edu:8080/api/v1\")\n",
    "cbGirder.authenticate(interactive=True)"
   ]
  },
  {
   "cell_type": "code",
   "execution_count": 4,
   "metadata": {},
   "outputs": [],
   "source": [
    "# Destination of Subject data in DTI Space :\n",
    "subjDTIPath = \"/collection/FG/HCP_TractographyData/SubjectRegistrationResults/DTI_Space\"\n",
    "subjDtiTarget = cbGirder.get(\"resource/lookup?path=\" + subjDTIPath)"
   ]
  },
  {
   "cell_type": "code",
   "execution_count": 5,
   "metadata": {
    "scrolled": true
   },
   "outputs": [
    {
     "name": "stdout",
     "output_type": "stream",
     "text": [
      "1009 Subjects have Bedpost Data\n"
     ]
    }
   ],
   "source": [
    "# List of Subjects:\n",
    "subjList = [x for x in os.listdir(subjRootDir) if 'addlInfo' not in x]\n",
    "print(len(subjList),\"Subjects have Bedpost Data\")"
   ]
  },
  {
   "cell_type": "markdown",
   "metadata": {},
   "source": [
    "## Upload Source nodiff images images to Destination\n",
    "Source: Server filesystem <br>\n",
    "Destination: Girder"
   ]
  },
  {
   "cell_type": "code",
   "execution_count": null,
   "metadata": {},
   "outputs": [],
   "source": [
    "# Iterate through subjects:\n",
    "for s in subjList: \n",
    "    # Create destination folder (or get existing):\n",
    "    grdrTgtSubjFolder = cbGirder.createFolder(subjDtiTarget['_id'],\n",
    "                                              name=s,\n",
    "                                              description=\"Subject %s DTI Space Images\" % s,\n",
    "                                              reuseExisting=True)\n",
    "    \n",
    "    ## Items in subject folder (Destination):\n",
    "    itemsInSubjFolder = list(cbGirder.listItem(grdrTgtSubjFolder['_id']))\n",
    "    \n",
    "    # List of tuples for Destination images: (filename, file_size)\n",
    "    # Used to detect if Source images already uploaded to Girder:\n",
    "    curSubjFiles = [ (x['name'],x['size']) for  x  in itemsInSubjFolder  ]\n",
    "\n",
    "    # List of DTI nodiff images on server (Source):\n",
    "    dtiBaseFiles = glob.glob(subjRootDir+s+diffData)\n",
    "    for f in dtiBaseFiles:\n",
    "        # Check if file exists in Girder (Destination):\n",
    "        if((os.path.basename(f),os.path.getsize(f) ) in curSubjFiles):\n",
    "            print(\"Already uploaded: %s\" % f)\n",
    "        else:\n",
    "            print(\"Uploading: %s\" % f)\n",
    "            # Upload Source to Destination:\n",
    "            grdrItemInfo = cbGirder.uploadFileToFolder(grdrTgtSubjFolder['_id'],\n",
    "                                                       f,\n",
    "                                                       filename=os.path.basename(f))\n",
    "            # Upload metadata:\n",
    "            cbGirder.addMetadataToItem(grdrItemInfo['itemId'],\n",
    "                                       {\"XTK\":{\"type\":\"volume2d\"}})\n",
    "            print(\"Done: %s\" % f)\n",
    "           "
   ]
  },
  {
   "cell_type": "markdown",
   "metadata": {},
   "source": [
    "# Upload ROI Masks:\n",
    "MNI masks converted to subject DTI Space"
   ]
  },
  {
   "cell_type": "code",
   "execution_count": null,
   "metadata": {},
   "outputs": [],
   "source": [
    "# Iterate through subjects:\n",
    "for s in subjList:\n",
    "    print('Subject: %s' % s)\n",
    "    grdrTgtSubjFolder = cbGirder.createFolder(subjDtiTarget['_id'],\n",
    "                                              name=s,\n",
    "                                              description=\"Subject %s DTI Space Images\" % s,\n",
    "                                              reuseExisting=True)\n",
    "\n",
    "    grdrDTIROISubjFolder = cbGirder.createFolder(grdrTgtSubjFolder['_id'],\n",
    "                                                 name='DTI_ROIs',\n",
    "                                                 description=\"Subject %s DTI Space ROIs\" % s,\n",
    "                                                 reuseExisting=True)\n",
    "    \n",
    "    ## Items in subject ROI folder (Destination):\n",
    "    itemsInROIFolder = list(cbGirder.listItem(grdrDTIROISubjFolder['_id']))\n",
    "    \n",
    "    # List of tuples for Destination images: (filename, file_size)\n",
    "    # Used to detect if Source images already uploaded to Girder:\n",
    "    curSubjFiles = [ (x['name'],x['size']) for  x  in itemsInROIFolder  ]\n",
    "    \n",
    "    # List of DTI ROI Mask images on server (Source):\n",
    "    # Ex: '/data/HCP_BedpostData/addlInfo/379657/DTI_ROIs/*'\n",
    "    dtiBaseFiles = glob.glob(subjRootDir+dtiSpaceMasks % s)\n",
    "    for f in dtiBaseFiles:\n",
    "        # Check if file exists in Girder (Destination):\n",
    "        if((os.path.basename(f),os.path.getsize(f) ) in curSubjFiles):\n",
    "            print(\"Already Uploaded: %s\" % f)\n",
    "        else:\n",
    "            print(\"Uploading: %s\" % f)\n",
    "            # Upload Source to Destination:\n",
    "            grdrItemInfo = cbGirder.uploadFileToFolder(grdrDTIROISubjFolder['_id'],\n",
    "                                                       f,\n",
    "                                                       filename=os.path.basename(f))\n",
    "\n",
    "            # Upload metadata:\n",
    "            cbGirder.addMetadataToItem(grdrItemInfo['itemId'],\n",
    "                                       {\"XTK\":{\"type\":\"volume2d\"}})\n",
    "            print(\"Done: %s\" % f)"
   ]
  },
  {
   "cell_type": "markdown",
   "metadata": {},
   "source": [
    "# Upload Specification file in each subject folder:\n",
    "### Spec defines data visualized parameters and load order"
   ]
  },
  {
   "cell_type": "code",
   "execution_count": 11,
   "metadata": {},
   "outputs": [],
   "source": [
    "s = subjList[0]\n",
    "\n",
    "grdrTgtSubjFolder = list(cbGirder.listFolder(subjDtiTarget['_id'],\n",
    "                                                 name=s))\n",
    "\n",
    "itemsInSubjFolder = list(cbGirder.listItem(grdrTgtSubjFolder[0]['_id']))\n",
    "\n"
   ]
  },
  {
   "cell_type": "code",
   "execution_count": 21,
   "metadata": {},
   "outputs": [
    {
     "data": {
      "text/plain": [
       "[{'_accessLevel': 2,\n",
       "  '_id': '5c86d93be62914004d778cc1',\n",
       "  '_modelType': 'folder',\n",
       "  'baseParentId': '5c48db6de62914004de6350f',\n",
       "  'baseParentType': 'collection',\n",
       "  'created': '2019-03-11T21:55:07.728000+00:00',\n",
       "  'creatorId': '5956b83b92ca9a000d9c0488',\n",
       "  'description': 'Subject 379657 DTI Space ROIs',\n",
       "  'name': 'DTI_ROIs',\n",
       "  'parentCollection': 'folder',\n",
       "  'parentId': '5c86d6a4e62914004d776521',\n",
       "  'public': True,\n",
       "  'size': 271280,\n",
       "  'updated': '2019-03-11T21:55:07.728000+00:00'}]"
      ]
     },
     "execution_count": 21,
     "metadata": {},
     "output_type": "execute_result"
    }
   ],
   "source": [
    "foldersInSubjFolder"
   ]
  },
  {
   "cell_type": "code",
   "execution_count": null,
   "metadata": {},
   "outputs": [],
   "source": [
    "# DTI base data: first: nodif, second: nodif_brain, third: nodif_brain_mask\n",
    "dtiFilesForPapaya = ['nodif.nii.gz',\n",
    "                     'nodif_brain.nii.gz',\n",
    "                     'nodif_brain_mask.nii.gz']\n",
    "\n",
    "# Iterate through subjects:\n",
    "for s in subjList[0:1]:\n",
    "    papayaSpecDataDict = {}\n",
    "    \n",
    "    # Subject folder:\n",
    "    grdrTgtSubjFolder = list(cbGirder.listFolder(subjDtiTarget['_id'],\n",
    "                                                 name=s))\n",
    "    # Images in subject folder:\n",
    "    itemsInSubjFolder = list(cbGirder.listItem(grdrTgtSubjFolder[0]['_id']))\n",
    "    \n",
    "    # Subject subfolders: Ex. 'DTI_ROIs'\n",
    "    foldersInSubjFolder = list(cbGirder.listFolder(grdrTgtSubjFolder[0]['_id']) )\n",
    "    \n",
    "    # Iterate through itemsInSubjFolder:\n",
    "    for i in itemsInSubjFolder:\n",
    "        # if image in dtiFilesForPapaya, create Specification entry:\n",
    "        if i['name'] in dtiFilesForPapaya:\n",
    "            # file ID:\n",
    "            itemFiles = cbGirder.listFile(i['_id'])\n",
    "            \n",
    "            # An item can have one or more files:\n",
    "            grdrFileId = None\n",
    "            for itf in itemFiles:\n",
    "                if itf['name'] == i['name']:\n",
    "                    grdrFileId = itf['_id']\n",
    "                    break\n",
    "            \n",
    "            # Specification Entry:\n",
    "            papayaSpecDataDict[i['name']] = {'displayName': i['name'].replace('nii.gz',''), \n",
    "                                             'grdrFileId': grdrFileId,\n",
    "                                             \"alpha\": 1, \n",
    "                                             \"visible\": 1}\n",
    "            \n",
    "    # Order Specification files:\n",
    "    for d in dtiFilesForPapaya:\n",
    "        if d in papayaSpecDataDict:\n",
    "            papayaSpec.append( papayaSpecDataDict[d]  )\n",
    "    # Upload metadata to Subject folder:        \n",
    "    cbGirder.addMetadataToFolder(grdrTgtSubjFolder[0]['_id'], {\"papayaSpec\":papayaSpec})\n",
    "    "
   ]
  },
  {
   "cell_type": "code",
   "execution_count": null,
   "metadata": {},
   "outputs": [],
   "source": []
  }
 ],
 "metadata": {
  "kernelspec": {
   "display_name": "Python 3",
   "language": "python",
   "name": "python3"
  },
  "language_info": {
   "codemirror_mode": {
    "name": "ipython",
    "version": 3
   },
   "file_extension": ".py",
   "mimetype": "text/x-python",
   "name": "python",
   "nbconvert_exporter": "python",
   "pygments_lexer": "ipython3",
   "version": "3.6.6"
  }
 },
 "nbformat": 4,
 "nbformat_minor": 2
}
