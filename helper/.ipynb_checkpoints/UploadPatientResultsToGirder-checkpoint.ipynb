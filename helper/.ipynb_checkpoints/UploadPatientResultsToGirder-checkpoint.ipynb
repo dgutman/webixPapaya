{
 "cells": [
  {
   "cell_type": "markdown",
   "metadata": {},
   "source": [
    "# Upload images from server filesystem to Girder using python API"
   ]
  },
  {
   "cell_type": "markdown",
   "metadata": {},
   "source": [
    "## From: Frink /HCP_Data/HCP_BedpostData/\n",
    "## To: Candygram \n",
    "http://candygram.neurology.emory.edu:8080/#collection/5c48db6de62914004de6350f/folder/5c743889e62914004d6f974c"
   ]
  },
  {
   "cell_type": "code",
   "execution_count": 1,
   "metadata": {
    "collapsed": true
   },
   "outputs": [
    {
     "name": "stdout",
     "output_type": "stream",
     "text": [
      "Collecting girder_client\n",
      "  Downloading https://files.pythonhosted.org/packages/42/49/a8772bc89b348b0a41e2d583a6aa04d4d9db21a3568a7df17d68029ebb84/girder-client-2.4.0.tar.gz\n",
      "Requirement already satisfied: click>=6.7 in /opt/conda/lib/python3.6/site-packages (from girder_client) (7.0)\n",
      "Collecting diskcache (from girder_client)\n",
      "  Downloading https://files.pythonhosted.org/packages/6b/92/eef5c59a4cec01277cbc12cb6c7946bdb4e135a13fd5a390949817bf2921/diskcache-3.1.1-py2.py3-none-any.whl\n",
      "Requirement already satisfied: requests>=2.4.2 in /opt/conda/lib/python3.6/site-packages (from girder_client) (2.21.0)\n",
      "Collecting requests_toolbelt (from girder_client)\n",
      "\u001b[?25l  Downloading https://files.pythonhosted.org/packages/60/ef/7681134338fc097acef8d9b2f8abe0458e4d87559c689a8c306d0957ece5/requests_toolbelt-0.9.1-py2.py3-none-any.whl (54kB)\n",
      "\u001b[K    100% |████████████████████████████████| 61kB 9.8MB/s eta 0:00:01\n",
      "\u001b[?25hRequirement already satisfied: six in /opt/conda/lib/python3.6/site-packages (from girder_client) (1.12.0)\n",
      "Requirement already satisfied: urllib3<1.25,>=1.21.1 in /opt/conda/lib/python3.6/site-packages (from requests>=2.4.2->girder_client) (1.24.1)\n",
      "Requirement already satisfied: chardet<3.1.0,>=3.0.2 in /opt/conda/lib/python3.6/site-packages (from requests>=2.4.2->girder_client) (3.0.4)\n",
      "Requirement already satisfied: idna<2.9,>=2.5 in /opt/conda/lib/python3.6/site-packages (from requests>=2.4.2->girder_client) (2.8)\n",
      "Requirement already satisfied: certifi>=2017.4.17 in /opt/conda/lib/python3.6/site-packages (from requests>=2.4.2->girder_client) (2018.11.29)\n",
      "Building wheels for collected packages: girder-client\n",
      "  Running setup.py bdist_wheel for girder-client ... \u001b[?25ldone\n",
      "\u001b[?25h  Stored in directory: /home/mainuser/.cache/pip/wheels/ee/e3/27/9481635fa878eacc1579d2dd43f1847b9705cbb8977f98c0ab\n",
      "Successfully built girder-client\n",
      "Installing collected packages: diskcache, requests-toolbelt, girder-client\n",
      "Successfully installed diskcache-3.1.1 girder-client-2.4.0 requests-toolbelt-0.9.1\n"
     ]
    }
   ],
   "source": [
    "# Ensure girder_client installed:\n",
    "! pip install girder_client"
   ]
  },
  {
   "cell_type": "code",
   "execution_count": 2,
   "metadata": {},
   "outputs": [],
   "source": [
    "import girder_client\n",
    "import sys,os,glob"
   ]
  },
  {
   "cell_type": "code",
   "execution_count": 7,
   "metadata": {},
   "outputs": [],
   "source": [
    "### Subject Data location:\n",
    "subjRootDir = \"/data/HCP_BedpostData/\"\n",
    "\n",
    "### Source files to upload:\n",
    "diffData = \"/T1w/Diffusion/nodif*\""
   ]
  },
  {
   "cell_type": "code",
   "execution_count": 3,
   "metadata": {},
   "outputs": [
    {
     "name": "stdout",
     "output_type": "stream",
     "text": [
      "Login or email: admin\n",
      "Password for admin: ········\n"
     ]
    }
   ],
   "source": [
    "# Admin login:\n",
    "cbGirder = girder_client.GirderClient(apiUrl=\"http://candygram.neurology.emory.edu:8080/api/v1\")\n",
    "cbGirder.authenticate(interactive=True)"
   ]
  },
  {
   "cell_type": "code",
   "execution_count": 4,
   "metadata": {},
   "outputs": [],
   "source": [
    "# Destination of Subject data in DTI Space :\n",
    "subjDTIPath = \"/collection/FG/HCP_TractographyData/SubjectRegistrationResults/DTI_Space\"\n",
    "subjDtiTarget = cbGirder.get(\"resource/lookup?path=\" + subjDTIPath)"
   ]
  },
  {
   "cell_type": "code",
   "execution_count": 8,
   "metadata": {
    "scrolled": true
   },
   "outputs": [
    {
     "name": "stdout",
     "output_type": "stream",
     "text": [
      "1009 Subjects have Bedpost Data\n"
     ]
    }
   ],
   "source": [
    "# List of Subjects:\n",
    "subjList = [x for x in os.listdir(subjRootDir) if 'addlInfo' not in x]\n",
    "print(len(subjList),\"Subjects have Bedpost Data\")"
   ]
  },
  {
   "cell_type": "markdown",
   "metadata": {},
   "source": [
    "## Upload Source nodiff images images to Destination\n",
    "Source: Server filesystem <br>\n",
    "Destination: Girder"
   ]
  },
  {
   "cell_type": "code",
   "execution_count": 22,
   "metadata": {},
   "outputs": [
    {
     "name": "stdout",
     "output_type": "stream",
     "text": [
      "Already uploaded: /data/HCP_BedpostData/379657/T1w/Diffusion/nodif_brain_mask.nii.gz\n",
      "Already uploaded: /data/HCP_BedpostData/379657/T1w/Diffusion/nodif.nii.gz\n",
      "Already uploaded: /data/HCP_BedpostData/379657/T1w/Diffusion/nodif_brain.nii.gz\n"
     ]
    }
   ],
   "source": [
    "# Iterate through subjects:\n",
    "for s in subjList[0:1]: \n",
    "    # Create destination folder (or get existing):\n",
    "    grdrTgtSubjFolder = cbGirder.createFolder(subjDtiTarget['_id'],\n",
    "                                              name=s,\n",
    "                                              description=\"Subject %s DTI Space Images\" % s,\n",
    "                                              reuseExisting=True)\n",
    "    \n",
    "    ## Items in subject folder (Destination):\n",
    "    itemsInSubjFolder = list(cbGirder.listItem(grdrTgtSubjFolder['_id']))\n",
    "    \n",
    "    # Dictionary of Destination images: {filename : file_size}\n",
    "    # Used to detect if Source images already uploaded to Girder:\n",
    "    curSubjFiles = [ (x['name'],x['size']) for  x  in itemsInSubjFolder  ]\n",
    "\n",
    "    # List of DTI nodiff images on server (Source):\n",
    "    dtiBaseFiles = glob.glob(subjRootDir+s+diffData)\n",
    "    for f in dtiBaseFiles:\n",
    "        # Check if file exists in Girder (Destination):\n",
    "        if((os.path.basename(f),os.path.getsize(f) ) in curSubjFiles):\n",
    "            print(\"Already uploaded: %s\" % f)\n",
    "        else:\n",
    "            print(\"Uploading %s ...\" % f)\n",
    "            # Upload Source to Destination:\n",
    "            grdrItemInfo = cbGirder.uploadFileToFolder(grdrTgtSubjFolder['_id'],\n",
    "                                                       f,\n",
    "                                                       filename=os.path.basename(f))\n",
    "            print(\"Uploading %s Metadata ...\" % f)\n",
    "            # Upload metadata:\n",
    "            cbGirder.addMetadataToItem(grdrItemInfo['itemId'],\n",
    "                                       {\"XTK\":{\"type\":\"volume2d\"}})\n",
    "            print(\"Uploading %s Done\" % f)\n",
    "           "
   ]
  },
  {
   "cell_type": "markdown",
   "metadata": {},
   "source": [
    "# Upload ROI Masks:"
   ]
  },
  {
   "cell_type": "code",
   "execution_count": null,
   "metadata": {},
   "outputs": [],
   "source": [
    "# ### Let's also load the MNI masks converted to DTI space for this subject cohort\n",
    "\n",
    "# ### Where the raw Subject Data is located\n",
    "subjRootDir = \"/data/HCP_BedpostData/\"\n",
    "dtiSpaceMasks = \"addlInfo/%s/DTI_ROIs/*\"  ### This will find nodif brain images which I use to show DTI Data\n",
    "\n",
    "\n",
    "\n",
    "for s in subjList[0:10]: ### Just going to grab the first ten subjects\n",
    "    grdrTgtSubjFolder = cbGirder.createFolder(subjDtiTarget['_id'],name=s,\n",
    "                                description=\"Subject %s DTI Space Images\" % s,reuseExisting=True)\n",
    "\n",
    "    grdrDTIROISubjFolder = cbGirder.createFolder(grdrTgtSubjFolder['_id'],name='DTI_ROIs',\n",
    "                            description=\"Subject %s DTI Space ROIs\" % s,reuseExisting=True)\n",
    "\n",
    "    \n",
    "    \n",
    "#     ## Get the Items in the current subject DTI ROI folder; we can double check the items we are trying to upload match\n",
    "#     ## What's on our server\n",
    "    itemsInROIFolder = list(cbGirder.listItem(grdrDTIROISubjFolder['_id']))\n",
    "    ### Turn this into a dictionary so I can compare what's on my file system\n",
    "    ### To what's in girder.. and then decide if I should upload it or not..\n",
    "    curSubjFiles = [ (x['name'],x['size']) for  x  in itemsInROIFolder  ]\n",
    "\n",
    "    #Get a list of the DTI base images on the server i.e. my FILE system.. not actually in girder\n",
    "    \n",
    "    dtiBaseFiles = glob.glob(subjRootDir+dtiSpaceMasks%s)\n",
    "    for f in dtiBaseFiles:\n",
    "        ### Check and see if there's already an item in this folder that matches what I am trying to upload..\n",
    "        if((os.path.basename(f),os.path.getsize(f) ) in curSubjFiles):\n",
    "            #print(\"File appears to already be uploaded....\")\n",
    "            continue\n",
    "        else:\n",
    "            grdrItemInfo = cbGirder.uploadFileToFolder(grdrDTIROISubjFolder['_id'],f,filename=os.path.basename(f))\n",
    "\n",
    "            ### TO DO: Debate if I check/add/update metadatar not\n",
    "            ## LETS POST SOME METADATA As well.. including in the near future the fslSTATS data Felipe Wants\n",
    "            cbGirder.addMetadataToItem(grdrItemInfo['itemId'],{\"XTK\":{\"type\":\"volume2d\"}})\n",
    "           \n"
   ]
  },
  {
   "cell_type": "code",
   "execution_count": null,
   "metadata": {},
   "outputs": [],
   "source": [
    "### Now the fun part... let's create a SPEC for each Folder that shows how we want to visualize/load it..\n",
    "\n",
    "## For the DTI base data, we want the nodif to be first, nodif_brain to be second, nodif_brain_mask to be third...\n",
    "\n",
    "dtiFilesForPapaya = ['nodif.nii.gz','nodif_brain.nii.gz','nodif_brain_mask.nii.gz']\n",
    "\n",
    "\n",
    "\n",
    "\n",
    "for s in subjList[0:10]: ### Just going to grab the first ten subjects\n",
    "    papayaSpecDataDict = {}\n",
    "    \n",
    "    grdrTgtSubjFolder = list(cbGirder.listFolder(subjDtiTarget['_id'],name=s))\n",
    "    itemsInSubjFolder = list(cbGirder.listItem(grdrTgtSubjFolder[0]['_id']))\n",
    "    \n",
    "    for i in itemsInSubjFolder:\n",
    "        #print(i)\n",
    "        if i['name'] in dtiFilesForPapaya:\n",
    "            ### Populate the spec info now...\n",
    "            ##g# Need to get the fileID for this item...\n",
    "            itemFiles = cbGirder.listFile(i['_id'])\n",
    "            ##an item can have one or more files in it... this is complicated!\n",
    "\n",
    "            grdrFileId = None\n",
    "            for itf in itemFiles:\n",
    "                if itf['name'] == i['name']:\n",
    "                    grdrFileId = itf['_id']\n",
    "                    break\n",
    "            \n",
    "            papayaSpecDataDict[i['name']] = { 'displayName': i['name'].replace('nii.gz',''), 'grdrFileId': grdrFileId,\n",
    "                                                \"alpha\": 1, \"visible\": 1}\n",
    "            \n",
    "#    print(papayaSpecDataDict)\n",
    "    ## This is what we ACTUALY want to post.. so it's in order\n",
    "    for d in dtiFilesForPapaya:\n",
    "        if d in papayaSpecDataDict:\n",
    "            papayaSpec.append( papayaSpecDataDict[d]  )\n",
    "    cbGirder.addMetadataToFolder(grdrTgtSubjFolder[0]['_id'], {\"papayaSpec\":papayaSpec})\n",
    "    "
   ]
  },
  {
   "cell_type": "code",
   "execution_count": null,
   "metadata": {},
   "outputs": [],
   "source": []
  },
  {
   "cell_type": "code",
   "execution_count": null,
   "metadata": {},
   "outputs": [],
   "source": []
  },
  {
   "cell_type": "code",
   "execution_count": null,
   "metadata": {},
   "outputs": [],
   "source": [
    "        \n",
    "#     # Now either upload the local files and see if there are already files on girder.\n",
    "\n",
    "\n",
    "#     for f in dtiBaseFiles:\n",
    "#         print(f)\n",
    "#         print(grdrTgtSubjFolder)\n",
    "    \n",
    "#     ## So for each subject, I need to first either create or get the folder ID that I'm going to upload these items into\n",
    "    \n",
    "    \n",
    "    "
   ]
  }
 ],
 "metadata": {
  "kernelspec": {
   "display_name": "Python 3",
   "language": "python",
   "name": "python3"
  },
  "language_info": {
   "codemirror_mode": {
    "name": "ipython",
    "version": 3
   },
   "file_extension": ".py",
   "mimetype": "text/x-python",
   "name": "python",
   "nbconvert_exporter": "python",
   "pygments_lexer": "ipython3",
   "version": "3.6.6"
  }
 },
 "nbformat": 4,
 "nbformat_minor": 2
}
