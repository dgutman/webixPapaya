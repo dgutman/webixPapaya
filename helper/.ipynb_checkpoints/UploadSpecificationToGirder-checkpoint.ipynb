{
 "cells": [
  {
   "cell_type": "markdown",
   "metadata": {},
   "source": [
    "# Upload Specification file in each subject folder:\n",
    "### From: Frink /HCP_Data/HCP_BedpostData/\n",
    "### To: Candygram \n",
    "http://candygram.neurology.emory.edu:8080/#collection/5c48db6de62914004de6350f/folder/5c743889e62914004d6f974c"
   ]
  },
  {
   "cell_type": "code",
   "execution_count": null,
   "metadata": {},
   "outputs": [],
   "source": [
    "# Ensure girder_client installed:\n",
    "! pip install girder_client"
   ]
  },
  {
   "cell_type": "code",
   "execution_count": 1,
   "metadata": {},
   "outputs": [],
   "source": [
    "import girder_client\n",
    "import sys,os,glob"
   ]
  },
  {
   "cell_type": "code",
   "execution_count": 2,
   "metadata": {},
   "outputs": [],
   "source": [
    "# Subject Data location:\n",
    "subjRootDir = \"/data/HCP_BedpostData/\"\n",
    "\n",
    "# Source subject nodiff:\n",
    "diffData = \"/T1w/Diffusion/nodif*\"\n",
    "\n",
    "# Source ROIs\n",
    "dtiSpaceMasks = \"addlInfo/%s/DTI_ROIs/*\""
   ]
  },
  {
   "cell_type": "code",
   "execution_count": 15,
   "metadata": {},
   "outputs": [
    {
     "name": "stdout",
     "output_type": "stream",
     "text": [
      "Login or email: admin\n",
      "Password for admin: ········\n"
     ]
    }
   ],
   "source": [
    "# Admin login:\n",
    "apiUrl=\"http://candygram.neurology.emory.edu:8080/api/v1\"\n",
    "cbGirder = girder_client.GirderClient(apiUrl=apiUrl)\n",
    "cbGirder.authenticate(interactive=True)"
   ]
  },
  {
   "cell_type": "code",
   "execution_count": 4,
   "metadata": {},
   "outputs": [],
   "source": [
    "# Destination of Subject data in DTI Space :\n",
    "subjDTIPath = \"/collection/FG/HCP_TractographyData/SubjectRegistrationResults/DTI_Space\"\n",
    "subjDtiTarget = cbGirder.get(\"resource/lookup?path=\" + subjDTIPath)"
   ]
  },
  {
   "cell_type": "code",
   "execution_count": 5,
   "metadata": {},
   "outputs": [
    {
     "name": "stdout",
     "output_type": "stream",
     "text": [
      "1009 Subjects have Bedpost Data\n"
     ]
    }
   ],
   "source": [
    "# List of Subjects:\n",
    "subjList = [x for x in os.listdir(subjRootDir) if 'addlInfo' not in x]\n",
    "print(len(subjList),\"Subjects have Bedpost Data\")"
   ]
  },
  {
   "cell_type": "markdown",
   "metadata": {},
   "source": [
    "# Upload Specification file as metadata for each subject folder:\n",
    "### Spec defines data visualized parameters and load order"
   ]
  },
  {
   "cell_type": "code",
   "execution_count": 18,
   "metadata": {},
   "outputs": [],
   "source": [
    "# DTI base data: first: nodif, second: nodif_brain, third: nodif_brain_mask\n",
    "dtiFilesForPapaya = ['nodif.nii.gz',\n",
    "                     'nodif_brain.nii.gz',\n",
    "                     'nodif_brain_mask.nii.gz']\n",
    "\n",
    "imageList = []"
   ]
  },
  {
   "cell_type": "code",
   "execution_count": 7,
   "metadata": {},
   "outputs": [
    {
     "data": {
      "text/plain": [
       "'100206'"
      ]
     },
     "execution_count": 7,
     "metadata": {},
     "output_type": "execute_result"
    }
   ],
   "source": [
    "s = '100206'\n",
    "s"
   ]
  },
  {
   "cell_type": "code",
   "execution_count": 20,
   "metadata": {},
   "outputs": [
    {
     "name": "stdout",
     "output_type": "stream",
     "text": [
      "S: 100206\n",
      "http://candygram.neurology.emory.edu:8080/api/v1/item/5c86d6f0e62914004d776c75/download?contentDisposition=attachment\n",
      "http://candygram.neurology.emory.edu:8080/api/v1/item/5c86d6f0e62914004d776c78/download?contentDisposition=attachment\n",
      "http://candygram.neurology.emory.edu:8080/api/v1/item/5c86d6f0e62914004d776c72/download?contentDisposition=attachment\n"
     ]
    },
    {
     "ename": "AttributeError",
     "evalue": "'dict' object has no attribute 'append'",
     "output_type": "error",
     "traceback": [
      "\u001b[0;31m---------------------------------------------------------------------------\u001b[0m",
      "\u001b[0;31mAttributeError\u001b[0m                            Traceback (most recent call last)",
      "\u001b[0;32m<ipython-input-20-23c0cbce3f4e>\u001b[0m in \u001b[0;36m<module>\u001b[0;34m\u001b[0m\n\u001b[1;32m     33\u001b[0m     \u001b[0;32mfor\u001b[0m \u001b[0md\u001b[0m \u001b[0;32min\u001b[0m \u001b[0mdtiFilesForPapaya\u001b[0m\u001b[0;34m:\u001b[0m\u001b[0;34m\u001b[0m\u001b[0m\n\u001b[1;32m     34\u001b[0m         \u001b[0;32mif\u001b[0m \u001b[0md\u001b[0m \u001b[0;32min\u001b[0m \u001b[0mpapayaSpecDataDict\u001b[0m\u001b[0;34m:\u001b[0m\u001b[0;34m\u001b[0m\u001b[0m\n\u001b[0;32m---> 35\u001b[0;31m             \u001b[0mpapayaSpec\u001b[0m\u001b[0;34m.\u001b[0m\u001b[0mappend\u001b[0m\u001b[0;34m(\u001b[0m \u001b[0mpapayaSpecDataDict\u001b[0m\u001b[0;34m[\u001b[0m\u001b[0md\u001b[0m\u001b[0;34m]\u001b[0m  \u001b[0;34m)\u001b[0m\u001b[0;34m\u001b[0m\u001b[0m\n\u001b[0m\u001b[1;32m     36\u001b[0m     \u001b[0;31m# Upload metadata to Subject folder:\u001b[0m\u001b[0;34m\u001b[0m\u001b[0;34m\u001b[0m\u001b[0m\n\u001b[1;32m     37\u001b[0m     \u001b[0;31m# cbGirder.addMetadataToFolder(grdrTgtSubjFolder[0]['_id'], {\"papayaSpec\":papayaSpec})\u001b[0m\u001b[0;34m\u001b[0m\u001b[0;34m\u001b[0m\u001b[0m\n",
      "\u001b[0;31mAttributeError\u001b[0m: 'dict' object has no attribute 'append'"
     ]
    }
   ],
   "source": [
    "# Iterate through subjects:\n",
    "for s in ['100206']: #subjList[0:1]:\n",
    "    print('S: %s' % s)\n",
    "    papayaSpecDataDict = {}\n",
    "    papayaSpec={}\n",
    "    \n",
    "    # Subject folder:\n",
    "    grdrTgtSubjFolder = list(cbGirder.listFolder(subjDtiTarget['_id'],\n",
    "                                                 name=s))\n",
    "    # Images in subject folder:\n",
    "    itemsInSubjFolder = list(cbGirder.listItem(grdrTgtSubjFolder[0]['_id']))\n",
    "    \n",
    "    # Subject subfolders: Ex. 'DTI_ROIs'\n",
    "    foldersInSubjFolder = list(cbGirder.listFolder(grdrTgtSubjFolder[0]['_id']) )\n",
    "    \n",
    "    # Iterate through itemsInSubjFolder:\n",
    "    for i in itemsInSubjFolder:\n",
    "        # if image in dtiFilesForPapaya, create Specification entry:\n",
    "        if i['name'] in dtiFilesForPapaya:\n",
    "            \n",
    "            # Image location:                    \n",
    "            imageURL = apiUrl +'/item/' +i['_id'] + '/download?contentDisposition=attachment'\n",
    "            print(imageURL)\n",
    "            imageList.append( imageURL )\n",
    "            \n",
    "            # Specification Entry:\n",
    "            papayaSpecDataDict[i['name']] = {'displayName': i['name'].replace('nii.gz',''), \n",
    "                                             'grdrFileId': i['_id'],\n",
    "                                             \"alpha\": 1, \n",
    "                                             \"visible\": 1}\n",
    "            \n",
    "    # Order Specification files:\n",
    "    for d in dtiFilesForPapaya:\n",
    "        if d in papayaSpecDataDict:\n",
    "            papayaSpec.append( papayaSpecDataDict[d]  )\n",
    "    # Upload metadata to Subject folder:        \n",
    "    # cbGirder.addMetadataToFolder(grdrTgtSubjFolder[0]['_id'], {\"papayaSpec\":papayaSpec})\n",
    "    "
   ]
  },
  {
   "cell_type": "markdown",
   "metadata": {},
   "source": [
    "# Define list of images in subject folder metadata:"
   ]
  },
  {
   "cell_type": "code",
   "execution_count": null,
   "metadata": {},
   "outputs": [],
   "source": []
  }
 ],
 "metadata": {
  "kernelspec": {
   "display_name": "Python 3",
   "language": "python",
   "name": "python3"
  },
  "language_info": {
   "codemirror_mode": {
    "name": "ipython",
    "version": 3
   },
   "file_extension": ".py",
   "mimetype": "text/x-python",
   "name": "python",
   "nbconvert_exporter": "python",
   "pygments_lexer": "ipython3",
   "version": "3.6.6"
  }
 },
 "nbformat": 4,
 "nbformat_minor": 2
}
