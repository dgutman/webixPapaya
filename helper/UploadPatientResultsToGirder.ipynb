{
 "cells": [
  {
   "cell_type": "code",
   "execution_count": 72,
   "metadata": {},
   "outputs": [],
   "source": [
    "### This will sync data that is on FRINK to a girder instance (computable brain)\n",
    "import girder_client\n",
    "import sys,os,glob"
   ]
  },
  {
   "cell_type": "code",
   "execution_count": 75,
   "metadata": {},
   "outputs": [
    {
     "name": "stdout",
     "output_type": "stream",
     "text": [
      "Login or email: admin\n",
      "Password for admin: ········\n"
     ]
    }
   ],
   "source": [
    "cbGirder = girder_client.GirderClient(apiUrl=\"http://candygram.neurology.emory.edu:8080/api/v1\")\n",
    "cbGirder.authenticate(interactive=True)\n",
    "\n",
    "\n"
   ]
  },
  {
   "cell_type": "code",
   "execution_count": 77,
   "metadata": {},
   "outputs": [],
   "source": [
    "### This is where I will post individual subjects data that is in DTI Space\n",
    "subjDTIPath = \"/collection/FG/HCP_TractographyData/SubjectRegistrationResults/DTI_Space\"\n",
    "subjDtiTarget = cbGirder.get(\"resource/lookup?path=\" + subjDTIPath)"
   ]
  },
  {
   "cell_type": "code",
   "execution_count": 78,
   "metadata": {},
   "outputs": [
    {
     "name": "stdout",
     "output_type": "stream",
     "text": [
      "1009 Subjects have Bedpost Data\n"
     ]
    }
   ],
   "source": [
    "### Where the raw Subject Data is located\n",
    "subjRootDir = \"/data/HCP_BedpostData/\"\n",
    "subjList = [x for x in os.listdir(subjRootDir) if 'addlInfo' not in x]\n",
    "print(len(subjList),\"Subjects have Bedpost Data\")\n",
    "diffData = \"/T1w/Diffusion/nodif*\"  ### This will find nodif brain images which I use to show DTI Data\n",
    "\n",
    "\n",
    "\n",
    "for s in subjList[0:10]: ### Just going to grab the first ten subjects\n",
    "    grdrTgtSubjFolder = cbGirder.createFolder(subjDtiTarget['_id'],name=s,\n",
    "                                description=\"Subject %s DTI Space Images\" % s,reuseExisting=True)\n",
    "        \n",
    "    ## Get the Items in the current subject folder; we can double check the items we are trying to upload match\n",
    "    ## What's on our server\n",
    "    itemsInSubjFolder = list(cbGirder.listItem(grdrTgtSubjFolder['_id']))\n",
    "    ### Turn this into a dictionary so I can compare what's on my file system\n",
    "    ### To what's in girder.. and then decide if I should upload it or not..\n",
    "    curSubjFiles = [ (x['name'],x['size']) for  x  in itemsInSubjFolder  ]\n",
    "\n",
    "    #Get a list of the DTI base images on the server i.e. my FILE system.. not actually in girder\n",
    "    dtiBaseFiles = glob.glob(subjRootDir+s+diffData)\n",
    "    for f in dtiBaseFiles:\n",
    "        ### Check and see if there's already an item in this folder that matches what I am trying to upload..\n",
    "        if((os.path.basename(f),os.path.getsize(f) ) in curSubjFiles):\n",
    "            #print(\"File appears to already be uploaded....\")\n",
    "            continue\n",
    "        else:\n",
    "            grdrItemInfo = cbGirder.uploadFileToFolder(grdrTgtSubjFolder['_id'],f,filename=os.path.basename(f))\n",
    "\n",
    "            ### TO DO: Debate if I check/add/update metadata or not\n",
    "            ## LETS POST SOME METADATA As well.. including in the near future the fslSTATS data Felipe Wants\n",
    "            cbGirder.addMetadataToItem(grdrItemInfo['itemId'],{\"XTK\":{\"type\":\"volume2d\"}})\n",
    "           "
   ]
  },
  {
   "cell_type": "code",
   "execution_count": 85,
   "metadata": {},
   "outputs": [],
   "source": [
    "# ### Let's also load the MNI masks converted to DTI space for this subject cohort\n",
    "\n",
    "# ### Where the raw Subject Data is located\n",
    "subjRootDir = \"/data/HCP_BedpostData/\"\n",
    "dtiSpaceMasks = \"addlInfo/%s/DTI_ROIs/*\"  ### This will find nodif brain images which I use to show DTI Data\n",
    "\n",
    "\n",
    "\n",
    "for s in subjList[0:10]: ### Just going to grab the first ten subjects\n",
    "    grdrTgtSubjFolder = cbGirder.createFolder(subjDtiTarget['_id'],name=s,\n",
    "                                description=\"Subject %s DTI Space Images\" % s,reuseExisting=True)\n",
    "\n",
    "    grdrDTIROISubjFolder = cbGirder.createFolder(grdrTgtSubjFolder['_id'],name='DTI_ROIs',\n",
    "                            description=\"Subject %s DTI Space ROIs\" % s,reuseExisting=True)\n",
    "\n",
    "    \n",
    "    \n",
    "#     ## Get the Items in the current subject DTI ROI folder; we can double check the items we are trying to upload match\n",
    "#     ## What's on our server\n",
    "    itemsInROIFolder = list(cbGirder.listItem(grdrDTIROISubjFolder['_id']))\n",
    "    ### Turn this into a dictionary so I can compare what's on my file system\n",
    "    ### To what's in girder.. and then decide if I should upload it or not..\n",
    "    curSubjFiles = [ (x['name'],x['size']) for  x  in itemsInROIFolder  ]\n",
    "\n",
    "    #Get a list of the DTI base images on the server i.e. my FILE system.. not actually in girder\n",
    "    \n",
    "    dtiBaseFiles = glob.glob(subjRootDir+dtiSpaceMasks%s)\n",
    "    for f in dtiBaseFiles:\n",
    "        ### Check and see if there's already an item in this folder that matches what I am trying to upload..\n",
    "        if((os.path.basename(f),os.path.getsize(f) ) in curSubjFiles):\n",
    "            #print(\"File appears to already be uploaded....\")\n",
    "            continue\n",
    "        else:\n",
    "            grdrItemInfo = cbGirder.uploadFileToFolder(grdrDTIROISubjFolder['_id'],f,filename=os.path.basename(f))\n",
    "\n",
    "            ### TO DO: Debate if I check/add/update metadatar not\n",
    "            ## LETS POST SOME METADATA As well.. including in the near future the fslSTATS data Felipe Wants\n",
    "            cbGirder.addMetadataToItem(grdrItemInfo['itemId'],{\"XTK\":{\"type\":\"volume2d\"}})\n",
    "           \n"
   ]
  },
  {
   "cell_type": "code",
   "execution_count": 71,
   "metadata": {},
   "outputs": [],
   "source": [
    "### Now the fun part... let's create a SPEC for each Folder that shows how we want to visualize/load it..\n",
    "\n",
    "## For the DTI base data, we want the nodif to be first, nodif_brain to be second, nodif_brain_mask to be third...\n",
    "\n",
    "dtiFilesForPapaya = ['nodif.nii.gz','nodif_brain.nii.gz','nodif_brain_mask.nii.gz']\n",
    "\n",
    "\n",
    "\n",
    "\n",
    "for s in subjList[0:10]: ### Just going to grab the first ten subjects\n",
    "    papayaSpecDataDict = {}\n",
    "    \n",
    "    grdrTgtSubjFolder = list(cbGirder.listFolder(subjDtiTarget['_id'],name=s))\n",
    "    itemsInSubjFolder = list(cbGirder.listItem(grdrTgtSubjFolder[0]['_id']))\n",
    "    \n",
    "    for i in itemsInSubjFolder:\n",
    "        #print(i)\n",
    "        if i['name'] in dtiFilesForPapaya:\n",
    "            ### Populate the spec info now...\n",
    "            ##g# Need to get the fileID for this item...\n",
    "            itemFiles = cbGirder.listFile(i['_id'])\n",
    "            ##an item can have one or more files in it... this is complicated!\n",
    "\n",
    "            grdrFileId = None\n",
    "            for itf in itemFiles:\n",
    "                if itf['name'] == i['name']:\n",
    "                    grdrFileId = itf['_id']\n",
    "                    break\n",
    "            \n",
    "            papayaSpecDataDict[i['name']] = { 'displayName': i['name'].replace('nii.gz',''), 'grdrFileId': grdrFileId,\n",
    "                                                \"alpha\": 1, \"visible\": 1}\n",
    "            \n",
    "#    print(papayaSpecDataDict)\n",
    "    ## This is what we ACTUALY want to post.. so it's in order\n",
    "    for d in dtiFilesForPapaya:\n",
    "        if d in papayaSpecDataDict:\n",
    "            papayaSpec.append( papayaSpecDataDict[d]  )\n",
    "    cbGirder.addMetadataToFolder(grdrTgtSubjFolder[0]['_id'], {\"papayaSpec\":papayaSpec})\n",
    "    "
   ]
  },
  {
   "cell_type": "code",
   "execution_count": null,
   "metadata": {},
   "outputs": [],
   "source": []
  },
  {
   "cell_type": "code",
   "execution_count": null,
   "metadata": {},
   "outputs": [],
   "source": []
  },
  {
   "cell_type": "code",
   "execution_count": 67,
   "metadata": {},
   "outputs": [],
   "source": [
    "        \n",
    "#     # Now either upload the local files and see if there are already files on girder.\n",
    "\n",
    "\n",
    "#     for f in dtiBaseFiles:\n",
    "#         print(f)\n",
    "#         print(grdrTgtSubjFolder)\n",
    "    \n",
    "#     ## So for each subject, I need to first either create or get the folder ID that I'm going to upload these items into\n",
    "    \n",
    "    \n",
    "    "
   ]
  }
 ],
 "metadata": {
  "kernelspec": {
   "display_name": "Python [conda root]",
   "language": "python",
   "name": "conda-root-py"
  },
  "language_info": {
   "codemirror_mode": {
    "name": "ipython",
    "version": 3
   },
   "file_extension": ".py",
   "mimetype": "text/x-python",
   "name": "python",
   "nbconvert_exporter": "python",
   "pygments_lexer": "ipython3",
   "version": "3.6.3"
  }
 },
 "nbformat": 4,
 "nbformat_minor": 2
}
